{
 "cells": [
  {
   "cell_type": "code",
   "execution_count": 1,
   "metadata": {},
   "outputs": [],
   "source": [
    "from requests import get"
   ]
  },
  {
   "cell_type": "code",
   "execution_count": 3,
   "metadata": {},
   "outputs": [],
   "source": [
    "from requests.exceptions import RequestException\n",
    "from contextlib import closing\n",
    "from bs4 import BeautifulSoup"
   ]
  },
  {
   "cell_type": "code",
   "execution_count": 7,
   "metadata": {},
   "outputs": [],
   "source": [
    "def simple_get(url):\n",
    "    try:\n",
    "        with closing(get(url,stream=True)) as resp:\n",
    "            if is_good_response(resp):\n",
    "                return resp.text\n",
    "            else:\n",
    "                return None\n",
    "    except RequestException as e:\n",
    "        log_error('error during request{0}:{1}'.format(url,str(e)))\n",
    "        return None\n",
    "        \n"
   ]
  },
  {
   "cell_type": "code",
   "execution_count": 9,
   "metadata": {},
   "outputs": [],
   "source": [
    "def is_good_response(resp):\n",
    "    content_type=resp.headers['content-type'].lower()\n",
    "    return(resp.status_code==200 and content_type is not None\n",
    "          and content_type.find('html')>-1)\n",
    "    "
   ]
  },
  {
   "cell_type": "code",
   "execution_count": 10,
   "metadata": {},
   "outputs": [],
   "source": [
    "def log_error(e):\n",
    "    print(e)"
   ]
  },
  {
   "cell_type": "code",
   "execution_count": 11,
   "metadata": {},
   "outputs": [
    {
     "data": {
      "text/plain": [
       "169591"
      ]
     },
     "execution_count": 11,
     "metadata": {},
     "output_type": "execute_result"
    }
   ],
   "source": [
    "raw_html=simple_get('https://alltop.com/')\n",
    "len(raw_html)"
   ]
  },
  {
   "cell_type": "code",
   "execution_count": 12,
   "metadata": {},
   "outputs": [],
   "source": [
    "html=BeautifulSoup(raw_html,'html.parser')"
   ]
  },
  {
   "cell_type": "code",
   "execution_count": 13,
   "metadata": {},
   "outputs": [
    {
     "name": "stdout",
     "output_type": "stream",
     "text": [
      "Please copy and paste this URL\n",
      "\n",
      "TechCrunch\n",
      "\n",
      "(techcrunch.com)\n",
      "\n",
      "\n",
      "\n",
      "Wired\n",
      "\n",
      "(www.wired.com)\n",
      "\n",
      "\n",
      "\n",
      "NYT Front Page\n",
      "\n",
      "(www.nytimes.com)\n",
      "\n",
      "\n",
      "\n",
      "Mashable\n",
      "\n",
      "(mashable.com)\n",
      "\n",
      "\n",
      "\n",
      "Washington Post Politics\n",
      "\n",
      "(www.washingtonpost.com)\n",
      "\n",
      "\n",
      "\n",
      "NPR News\n",
      "\n",
      "(www.npr.org)\n",
      "\n",
      "\n",
      "\n",
      "Reddit News\n",
      "\n",
      "(www.reddit.com)\n",
      "\n",
      "\n",
      "\n",
      "The Verge\n",
      "\n",
      "(www.theverge.com)\n",
      "\n",
      "\n",
      "\n",
      "Techmeme\n",
      "\n",
      "(www.techmeme.com)\n",
      "\n",
      "\n",
      "\n",
      "Alltop Viral (Formerly Holy Kaw)\n",
      "\n",
      "(www.alltop.com)\n",
      "\n",
      "\n",
      "\n",
      "CNN Top Stories\n",
      "\n",
      "(www.cnn.com)\n",
      "\n",
      "\n",
      "\n",
      "BBC Top Stories\n",
      "\n",
      "(www.bbc.co.uk)\n",
      "\n",
      "\n",
      "\n",
      "Reuters\n",
      "\n",
      "(www.reuters.com)\n",
      "\n",
      "\n",
      "\n",
      "Recode\n",
      "\n",
      "(www.vox.com)\n",
      "\n",
      "\n",
      "AllTop aggregates all of the top news and information in real time. Our editors have carefully crafted each topic with the best sources allowing you to see what's happening quickly and from trusted sources. \n",
      "About | Contact | Privacy Policy | Cookie PolicyCopyright © 2020 AllTop.com\n"
     ]
    }
   ],
   "source": [
    "for p in html.select('a'):\n",
    "    \n",
    "    print(p.text)"
   ]
  },
  {
   "cell_type": "code",
   "execution_count": null,
   "metadata": {},
   "outputs": [],
   "source": []
  }
 ],
 "metadata": {
  "kernelspec": {
   "display_name": "Python 3",
   "language": "python",
   "name": "python3"
  },
  "language_info": {
   "codemirror_mode": {
    "name": "ipython",
    "version": 3
   },
   "file_extension": ".py",
   "mimetype": "text/x-python",
   "name": "python",
   "nbconvert_exporter": "python",
   "pygments_lexer": "ipython3",
   "version": "3.7.3"
  }
 },
 "nbformat": 4,
 "nbformat_minor": 2
}
